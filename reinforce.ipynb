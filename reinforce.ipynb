{
 "cells": [
  {
   "cell_type": "markdown",
   "id": "86dda4c5",
   "metadata": {},
   "source": [
    "# REINFORCE (Policy Gradient)"
   ]
  },
  {
   "cell_type": "code",
   "execution_count": 1,
   "id": "42ad35ee",
   "metadata": {},
   "outputs": [],
   "source": [
    "import yaml\n",
    "import numpy as np\n",
    "from env import create_env\n",
    "from algorithms.reinforce import REINFORCEAgent\n",
    "%reload_ext autoreload\n",
    "%autoreload 2\n",
    "\n",
    "SEED = 42\n",
    "ENV_CONFIG = './configs/env.yaml'\n",
    "MODEL_CONFIG = './configs/reinforce.yaml'\n",
    "MODEL_PATH = './models/reinforce.pth'"
   ]
  },
  {
   "cell_type": "code",
   "execution_count": 2,
   "id": "5855faf6",
   "metadata": {},
   "outputs": [
    {
     "data": {
      "text/plain": [
       "(array([[ 1.        ,  1.        ],\n",
       "        [ 1.        ,  1.        ],\n",
       "        [ 1.        ,  1.        ],\n",
       "        [ 1.        ,  1.        ],\n",
       "        [ 1.        ,  1.        ],\n",
       "        [ 1.        ,  1.        ],\n",
       "        [ 1.        ,  1.        ],\n",
       "        [ 1.        ,  1.        ],\n",
       "        [ 1.        ,  1.        ],\n",
       "        [ 1.        ,  1.        ],\n",
       "        [ 1.        ,  1.        ],\n",
       "        [ 1.        ,  1.        ],\n",
       "        [ 1.        ,  1.        ],\n",
       "        [ 1.        ,  1.        ],\n",
       "        [ 1.        ,  1.        ],\n",
       "        [ 1.        ,  1.        ],\n",
       "        [ 1.        ,  1.        ],\n",
       "        [ 1.        ,  1.        ],\n",
       "        [ 1.        ,  1.        ],\n",
       "        [ 1.        ,  1.        ],\n",
       "        [ 1.        ,  1.        ],\n",
       "        [ 1.        ,  1.        ],\n",
       "        [ 1.        ,  1.        ],\n",
       "        [ 1.        ,  1.        ],\n",
       "        [ 0.82090656, -0.20743484],\n",
       "        [ 1.        ,  1.        ],\n",
       "        [ 1.        ,  1.        ],\n",
       "        [ 1.        ,  1.        ],\n",
       "        [ 1.        ,  1.        ],\n",
       "        [ 1.        ,  1.        ],\n",
       "        [ 1.        ,  1.        ],\n",
       "        [ 1.        ,  1.        ],\n",
       "        [ 1.        ,  1.        ],\n",
       "        [ 1.        ,  1.        ],\n",
       "        [ 1.        ,  1.        ],\n",
       "        [ 1.        ,  1.        ]]),\n",
       " {'speed': 10,\n",
       "  'crashed': False,\n",
       "  'action': array([-0.47879976,  0.99971324], dtype=float32),\n",
       "  'rewards': {'collision_reward': 0.0,\n",
       "   'high_speed_reward': np.float64(1.0),\n",
       "   'arrived_reward': 0.0,\n",
       "   'on_road_reward': np.float64(1.0)},\n",
       "  'agents_rewards': (np.float64(1.0),),\n",
       "  'agents_terminated': (False,)})"
      ]
     },
     "execution_count": 2,
     "metadata": {},
     "output_type": "execute_result"
    }
   ],
   "source": [
    "env = create_env(\n",
    "    config_filepath=ENV_CONFIG,\n",
    "    render_mode=None,\n",
    ")\n",
    "env.reset(seed=SEED)"
   ]
  },
  {
   "cell_type": "markdown",
   "id": "f9723e3d",
   "metadata": {},
   "source": [
    "## Load Model Configs"
   ]
  },
  {
   "cell_type": "code",
   "execution_count": 3,
   "id": "c7b824c2",
   "metadata": {},
   "outputs": [
    {
     "name": "stdout",
     "output_type": "stream",
     "text": [
      "{'hidden_size': 64, 'learning_rate': 0.001, 'gamma': 0.8, 'num_episodes_train': 5000, 'num_episodes_eval': 10, 'top_k': 5}\n"
     ]
    }
   ],
   "source": [
    "with open(MODEL_CONFIG, 'r') as file:\n",
    "    config = yaml.safe_load(file)\n",
    "    print(config)"
   ]
  },
  {
   "cell_type": "markdown",
   "id": "94399219",
   "metadata": {},
   "source": [
    "## Create Agent"
   ]
  },
  {
   "cell_type": "code",
   "execution_count": 4,
   "id": "f1f9e605",
   "metadata": {},
   "outputs": [
    {
     "name": "stdout",
     "output_type": "stream",
     "text": [
      "State size: 72, Action size: 2\n"
     ]
    }
   ],
   "source": [
    "state_size = np.prod(env.observation_space.shape)\n",
    "action_size = env.action_space.shape[0]\n",
    "print(f\"State size: {state_size}, Action size: {action_size}\")\n",
    "agent = REINFORCEAgent(\n",
    "    state_size=state_size,\n",
    "    hidden_size=config['hidden_size'],\n",
    "    action_size=action_size,\n",
    "    learning_rate=config['learning_rate'],\n",
    "    gamma=config['gamma'],\n",
    ")"
   ]
  },
  {
   "cell_type": "markdown",
   "id": "fa6572a8",
   "metadata": {},
   "source": [
    "## Train Agent or Load Weights"
   ]
  },
  {
   "cell_type": "code",
   "execution_count": 5,
   "id": "24870203",
   "metadata": {},
   "outputs": [],
   "source": [
    "# agent.load_model(\n",
    "#     model_path = MODEL_PATH,\n",
    "# )"
   ]
  },
  {
   "cell_type": "code",
   "execution_count": null,
   "id": "64d96ad3",
   "metadata": {},
   "outputs": [
    {
     "name": "stderr",
     "output_type": "stream",
     "text": [
      "Training REINFORCE Agent:   0%|          | 19/5000 [00:11<53:13,  1.56it/s]"
     ]
    }
   ],
   "source": [
    "agent.train(\n",
    "    env=env,\n",
    "    num_episodes=config['num_episodes_train'],\n",
    ")"
   ]
  },
  {
   "cell_type": "markdown",
   "id": "366be4a0",
   "metadata": {},
   "source": [
    "## Save Model Weights"
   ]
  },
  {
   "cell_type": "code",
   "execution_count": null,
   "id": "5ada83a3",
   "metadata": {},
   "outputs": [],
   "source": [
    "agent.save_model(\n",
    "    model_path=MODEL_PATH,\n",
    ")"
   ]
  },
  {
   "cell_type": "markdown",
   "id": "9aad0ccd",
   "metadata": {},
   "source": [
    "## Evaluate Agent Performance"
   ]
  },
  {
   "cell_type": "code",
   "execution_count": null,
   "id": "b1f0abef",
   "metadata": {},
   "outputs": [],
   "source": [
    "eval_env = create_env(\n",
    "    config_filepath=ENV_CONFIG,\n",
    "    render_mode='rgb_array',\n",
    ")\n",
    "eval_env.reset(seed=SEED)\n",
    "agent.evaluate(\n",
    "    env=eval_env,\n",
    "    num_episodes=config['num_episodes_eval'],\n",
    "    top_k=config['top_k'],\n",
    ")"
   ]
  },
  {
   "cell_type": "code",
   "execution_count": null,
   "id": "de498d72",
   "metadata": {},
   "outputs": [],
   "source": []
  }
 ],
 "metadata": {
  "kernelspec": {
   "display_name": "venv",
   "language": "python",
   "name": "python3"
  },
  "language_info": {
   "codemirror_mode": {
    "name": "ipython",
    "version": 3
   },
   "file_extension": ".py",
   "mimetype": "text/x-python",
   "name": "python",
   "nbconvert_exporter": "python",
   "pygments_lexer": "ipython3",
   "version": "3.11.9"
  }
 },
 "nbformat": 4,
 "nbformat_minor": 5
}
